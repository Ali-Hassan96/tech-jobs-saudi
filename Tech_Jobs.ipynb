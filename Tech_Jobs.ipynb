{
  "nbformat": 4,
  "nbformat_minor": 0,
  "metadata": {
    "colab": {
      "provenance": []
    },
    "kernelspec": {
      "name": "python3",
      "display_name": "Python 3"
    },
    "language_info": {
      "name": "python"
    }
  },
  "cells": [
    {
      "cell_type": "code",
      "source": [
        "import pandas as pd\n",
        "\n",
        "import matplotlib.pyplot as plt\n",
        "import matplotlib.dates as mdates\n",
        "\n",
        "import numpy as np\n",
        "\n",
        "from sklearn.ensemble import RandomForestClassifier\n",
        "from sklearn.model_selection import train_test_split\n",
        "from sklearn.preprocessing import LabelEncoder\n",
        "from sklearn.impute import SimpleImputer\n",
        "from sklearn.metrics import accuracy_score\n",
        "from sklearn.metrics import classification_report, confusion_matrix\n",
        "from sklearn.model_selection import learning_curve\n",
        "\n",
        "import seaborn as sns\n",
        "\n",
        "sns.set(style=\"whitegrid\")"
      ],
      "metadata": {
        "id": "EUBqoacLtth_"
      },
      "execution_count": 20,
      "outputs": []
    },
    {
      "cell_type": "code",
      "execution_count": 21,
      "metadata": {
        "colab": {
          "base_uri": "https://localhost:8080/",
          "height": 431
        },
        "id": "uQE3de8xTisG",
        "outputId": "1a44b79d-53bb-4ecc-f21d-27613c2c4cc5"
      },
      "outputs": [
        {
          "output_type": "execute_result",
          "data": {
            "text/plain": [
              "                                               Title  \\\n",
              "0  \\n            \\n        Software Engineer\\n   ...   \n",
              "1  \\n            \\n        Application Developer\\...   \n",
              "2  \\n            \\n        Software Engineering M...   \n",
              "3  \\n            \\n        Software Lead Develope...   \n",
              "4  \\n            \\n        Artificial Intelligenc...   \n",
              "\n",
              "                                             Job_URL  \\\n",
              "0  https://sa.linkedin.com/jobs/view/software-eng...   \n",
              "1  https://sa.linkedin.com/jobs/view/application-...   \n",
              "2  https://sa.linkedin.com/jobs/view/software-eng...   \n",
              "3  https://sa.linkedin.com/jobs/view/software-lea...   \n",
              "4  https://sa.linkedin.com/jobs/view/artificial-i...   \n",
              "\n",
              "                                         Company_URL  \\\n",
              "0  https://sa.linkedin.com/company/mozn?trk=publi...   \n",
              "1  https://sa.linkedin.com/company/tabadul?trk=pu...   \n",
              "2  https://sa.linkedin.com/company/sallaapp?trk=p...   \n",
              "3  https://sa.linkedin.com/company/saudi-tadawul-...   \n",
              "4  https://sa.linkedin.com/company/scai-sa?trk=pu...   \n",
              "\n",
              "                                             Company  \\\n",
              "0                     \\n            Mozn\\n             \n",
              "1                  \\n            Tabadul\\n             \n",
              "2  \\n            Salla E-Commerce Platform\\n     ...   \n",
              "3      \\n            Saudi Tadawul Group\\n             \n",
              "4              \\n            SCAI | سكاي\\n             \n",
              "\n",
              "                                            Location  \\\n",
              "0  \\n            Riyadh, Riyadh, Saudi Arabia\\n  ...   \n",
              "1     \\n            Riyadh, Saudi Arabia\\n             \n",
              "2  \\n            Riyadh, Riyadh, Saudi Arabia\\n  ...   \n",
              "3     \\n            Riyadh, Saudi Arabia\\n             \n",
              "4     \\n            Riyadh, Saudi Arabia\\n             \n",
              "\n",
              "                      Actively Hiring       Date  \n",
              "0                                 NaN  5/29/2023  \n",
              "1  \\n         Actively Hiring\\n        6/13/2023  \n",
              "2                                 NaN   4/3/2023  \n",
              "3  \\n         Actively Hiring\\n        5/30/2023  \n",
              "4                                 NaN  6/12/2023  "
            ],
            "text/html": [
              "\n",
              "  <div id=\"df-6ad39581-abce-4bd0-ab76-2822f9532356\" class=\"colab-df-container\">\n",
              "    <div>\n",
              "<style scoped>\n",
              "    .dataframe tbody tr th:only-of-type {\n",
              "        vertical-align: middle;\n",
              "    }\n",
              "\n",
              "    .dataframe tbody tr th {\n",
              "        vertical-align: top;\n",
              "    }\n",
              "\n",
              "    .dataframe thead th {\n",
              "        text-align: right;\n",
              "    }\n",
              "</style>\n",
              "<table border=\"1\" class=\"dataframe\">\n",
              "  <thead>\n",
              "    <tr style=\"text-align: right;\">\n",
              "      <th></th>\n",
              "      <th>Title</th>\n",
              "      <th>Job_URL</th>\n",
              "      <th>Company_URL</th>\n",
              "      <th>Company</th>\n",
              "      <th>Location</th>\n",
              "      <th>Actively Hiring</th>\n",
              "      <th>Date</th>\n",
              "    </tr>\n",
              "  </thead>\n",
              "  <tbody>\n",
              "    <tr>\n",
              "      <th>0</th>\n",
              "      <td>\\n            \\n        Software Engineer\\n   ...</td>\n",
              "      <td>https://sa.linkedin.com/jobs/view/software-eng...</td>\n",
              "      <td>https://sa.linkedin.com/company/mozn?trk=publi...</td>\n",
              "      <td>\\n            Mozn\\n</td>\n",
              "      <td>\\n            Riyadh, Riyadh, Saudi Arabia\\n  ...</td>\n",
              "      <td>NaN</td>\n",
              "      <td>5/29/2023</td>\n",
              "    </tr>\n",
              "    <tr>\n",
              "      <th>1</th>\n",
              "      <td>\\n            \\n        Application Developer\\...</td>\n",
              "      <td>https://sa.linkedin.com/jobs/view/application-...</td>\n",
              "      <td>https://sa.linkedin.com/company/tabadul?trk=pu...</td>\n",
              "      <td>\\n            Tabadul\\n</td>\n",
              "      <td>\\n            Riyadh, Saudi Arabia\\n</td>\n",
              "      <td>\\n         Actively Hiring\\n</td>\n",
              "      <td>6/13/2023</td>\n",
              "    </tr>\n",
              "    <tr>\n",
              "      <th>2</th>\n",
              "      <td>\\n            \\n        Software Engineering M...</td>\n",
              "      <td>https://sa.linkedin.com/jobs/view/software-eng...</td>\n",
              "      <td>https://sa.linkedin.com/company/sallaapp?trk=p...</td>\n",
              "      <td>\\n            Salla E-Commerce Platform\\n     ...</td>\n",
              "      <td>\\n            Riyadh, Riyadh, Saudi Arabia\\n  ...</td>\n",
              "      <td>NaN</td>\n",
              "      <td>4/3/2023</td>\n",
              "    </tr>\n",
              "    <tr>\n",
              "      <th>3</th>\n",
              "      <td>\\n            \\n        Software Lead Develope...</td>\n",
              "      <td>https://sa.linkedin.com/jobs/view/software-lea...</td>\n",
              "      <td>https://sa.linkedin.com/company/saudi-tadawul-...</td>\n",
              "      <td>\\n            Saudi Tadawul Group\\n</td>\n",
              "      <td>\\n            Riyadh, Saudi Arabia\\n</td>\n",
              "      <td>\\n         Actively Hiring\\n</td>\n",
              "      <td>5/30/2023</td>\n",
              "    </tr>\n",
              "    <tr>\n",
              "      <th>4</th>\n",
              "      <td>\\n            \\n        Artificial Intelligenc...</td>\n",
              "      <td>https://sa.linkedin.com/jobs/view/artificial-i...</td>\n",
              "      <td>https://sa.linkedin.com/company/scai-sa?trk=pu...</td>\n",
              "      <td>\\n            SCAI | سكاي\\n</td>\n",
              "      <td>\\n            Riyadh, Saudi Arabia\\n</td>\n",
              "      <td>NaN</td>\n",
              "      <td>6/12/2023</td>\n",
              "    </tr>\n",
              "  </tbody>\n",
              "</table>\n",
              "</div>\n",
              "    <div class=\"colab-df-buttons\">\n",
              "\n",
              "  <div class=\"colab-df-container\">\n",
              "    <button class=\"colab-df-convert\" onclick=\"convertToInteractive('df-6ad39581-abce-4bd0-ab76-2822f9532356')\"\n",
              "            title=\"Convert this dataframe to an interactive table.\"\n",
              "            style=\"display:none;\">\n",
              "\n",
              "  <svg xmlns=\"http://www.w3.org/2000/svg\" height=\"24px\" viewBox=\"0 -960 960 960\">\n",
              "    <path d=\"M120-120v-720h720v720H120Zm60-500h600v-160H180v160Zm220 220h160v-160H400v160Zm0 220h160v-160H400v160ZM180-400h160v-160H180v160Zm440 0h160v-160H620v160ZM180-180h160v-160H180v160Zm440 0h160v-160H620v160Z\"/>\n",
              "  </svg>\n",
              "    </button>\n",
              "\n",
              "  <style>\n",
              "    .colab-df-container {\n",
              "      display:flex;\n",
              "      gap: 12px;\n",
              "    }\n",
              "\n",
              "    .colab-df-convert {\n",
              "      background-color: #E8F0FE;\n",
              "      border: none;\n",
              "      border-radius: 50%;\n",
              "      cursor: pointer;\n",
              "      display: none;\n",
              "      fill: #1967D2;\n",
              "      height: 32px;\n",
              "      padding: 0 0 0 0;\n",
              "      width: 32px;\n",
              "    }\n",
              "\n",
              "    .colab-df-convert:hover {\n",
              "      background-color: #E2EBFA;\n",
              "      box-shadow: 0px 1px 2px rgba(60, 64, 67, 0.3), 0px 1px 3px 1px rgba(60, 64, 67, 0.15);\n",
              "      fill: #174EA6;\n",
              "    }\n",
              "\n",
              "    .colab-df-buttons div {\n",
              "      margin-bottom: 4px;\n",
              "    }\n",
              "\n",
              "    [theme=dark] .colab-df-convert {\n",
              "      background-color: #3B4455;\n",
              "      fill: #D2E3FC;\n",
              "    }\n",
              "\n",
              "    [theme=dark] .colab-df-convert:hover {\n",
              "      background-color: #434B5C;\n",
              "      box-shadow: 0px 1px 3px 1px rgba(0, 0, 0, 0.15);\n",
              "      filter: drop-shadow(0px 1px 2px rgba(0, 0, 0, 0.3));\n",
              "      fill: #FFFFFF;\n",
              "    }\n",
              "  </style>\n",
              "\n",
              "    <script>\n",
              "      const buttonEl =\n",
              "        document.querySelector('#df-6ad39581-abce-4bd0-ab76-2822f9532356 button.colab-df-convert');\n",
              "      buttonEl.style.display =\n",
              "        google.colab.kernel.accessAllowed ? 'block' : 'none';\n",
              "\n",
              "      async function convertToInteractive(key) {\n",
              "        const element = document.querySelector('#df-6ad39581-abce-4bd0-ab76-2822f9532356');\n",
              "        const dataTable =\n",
              "          await google.colab.kernel.invokeFunction('convertToInteractive',\n",
              "                                                    [key], {});\n",
              "        if (!dataTable) return;\n",
              "\n",
              "        const docLinkHtml = 'Like what you see? Visit the ' +\n",
              "          '<a target=\"_blank\" href=https://colab.research.google.com/notebooks/data_table.ipynb>data table notebook</a>'\n",
              "          + ' to learn more about interactive tables.';\n",
              "        element.innerHTML = '';\n",
              "        dataTable['output_type'] = 'display_data';\n",
              "        await google.colab.output.renderOutput(dataTable, element);\n",
              "        const docLink = document.createElement('div');\n",
              "        docLink.innerHTML = docLinkHtml;\n",
              "        element.appendChild(docLink);\n",
              "      }\n",
              "    </script>\n",
              "  </div>\n",
              "\n",
              "\n",
              "<div id=\"df-ed13381e-9590-47ff-a7b5-348e692cd286\">\n",
              "  <button class=\"colab-df-quickchart\" onclick=\"quickchart('df-ed13381e-9590-47ff-a7b5-348e692cd286')\"\n",
              "            title=\"Suggest charts\"\n",
              "            style=\"display:none;\">\n",
              "\n",
              "<svg xmlns=\"http://www.w3.org/2000/svg\" height=\"24px\"viewBox=\"0 0 24 24\"\n",
              "     width=\"24px\">\n",
              "    <g>\n",
              "        <path d=\"M19 3H5c-1.1 0-2 .9-2 2v14c0 1.1.9 2 2 2h14c1.1 0 2-.9 2-2V5c0-1.1-.9-2-2-2zM9 17H7v-7h2v7zm4 0h-2V7h2v10zm4 0h-2v-4h2v4z\"/>\n",
              "    </g>\n",
              "</svg>\n",
              "  </button>\n",
              "\n",
              "<style>\n",
              "  .colab-df-quickchart {\n",
              "      --bg-color: #E8F0FE;\n",
              "      --fill-color: #1967D2;\n",
              "      --hover-bg-color: #E2EBFA;\n",
              "      --hover-fill-color: #174EA6;\n",
              "      --disabled-fill-color: #AAA;\n",
              "      --disabled-bg-color: #DDD;\n",
              "  }\n",
              "\n",
              "  [theme=dark] .colab-df-quickchart {\n",
              "      --bg-color: #3B4455;\n",
              "      --fill-color: #D2E3FC;\n",
              "      --hover-bg-color: #434B5C;\n",
              "      --hover-fill-color: #FFFFFF;\n",
              "      --disabled-bg-color: #3B4455;\n",
              "      --disabled-fill-color: #666;\n",
              "  }\n",
              "\n",
              "  .colab-df-quickchart {\n",
              "    background-color: var(--bg-color);\n",
              "    border: none;\n",
              "    border-radius: 50%;\n",
              "    cursor: pointer;\n",
              "    display: none;\n",
              "    fill: var(--fill-color);\n",
              "    height: 32px;\n",
              "    padding: 0;\n",
              "    width: 32px;\n",
              "  }\n",
              "\n",
              "  .colab-df-quickchart:hover {\n",
              "    background-color: var(--hover-bg-color);\n",
              "    box-shadow: 0 1px 2px rgba(60, 64, 67, 0.3), 0 1px 3px 1px rgba(60, 64, 67, 0.15);\n",
              "    fill: var(--button-hover-fill-color);\n",
              "  }\n",
              "\n",
              "  .colab-df-quickchart-complete:disabled,\n",
              "  .colab-df-quickchart-complete:disabled:hover {\n",
              "    background-color: var(--disabled-bg-color);\n",
              "    fill: var(--disabled-fill-color);\n",
              "    box-shadow: none;\n",
              "  }\n",
              "\n",
              "  .colab-df-spinner {\n",
              "    border: 2px solid var(--fill-color);\n",
              "    border-color: transparent;\n",
              "    border-bottom-color: var(--fill-color);\n",
              "    animation:\n",
              "      spin 1s steps(1) infinite;\n",
              "  }\n",
              "\n",
              "  @keyframes spin {\n",
              "    0% {\n",
              "      border-color: transparent;\n",
              "      border-bottom-color: var(--fill-color);\n",
              "      border-left-color: var(--fill-color);\n",
              "    }\n",
              "    20% {\n",
              "      border-color: transparent;\n",
              "      border-left-color: var(--fill-color);\n",
              "      border-top-color: var(--fill-color);\n",
              "    }\n",
              "    30% {\n",
              "      border-color: transparent;\n",
              "      border-left-color: var(--fill-color);\n",
              "      border-top-color: var(--fill-color);\n",
              "      border-right-color: var(--fill-color);\n",
              "    }\n",
              "    40% {\n",
              "      border-color: transparent;\n",
              "      border-right-color: var(--fill-color);\n",
              "      border-top-color: var(--fill-color);\n",
              "    }\n",
              "    60% {\n",
              "      border-color: transparent;\n",
              "      border-right-color: var(--fill-color);\n",
              "    }\n",
              "    80% {\n",
              "      border-color: transparent;\n",
              "      border-right-color: var(--fill-color);\n",
              "      border-bottom-color: var(--fill-color);\n",
              "    }\n",
              "    90% {\n",
              "      border-color: transparent;\n",
              "      border-bottom-color: var(--fill-color);\n",
              "    }\n",
              "  }\n",
              "</style>\n",
              "\n",
              "  <script>\n",
              "    async function quickchart(key) {\n",
              "      const quickchartButtonEl =\n",
              "        document.querySelector('#' + key + ' button');\n",
              "      quickchartButtonEl.disabled = true;  // To prevent multiple clicks.\n",
              "      quickchartButtonEl.classList.add('colab-df-spinner');\n",
              "      try {\n",
              "        const charts = await google.colab.kernel.invokeFunction(\n",
              "            'suggestCharts', [key], {});\n",
              "      } catch (error) {\n",
              "        console.error('Error during call to suggestCharts:', error);\n",
              "      }\n",
              "      quickchartButtonEl.classList.remove('colab-df-spinner');\n",
              "      quickchartButtonEl.classList.add('colab-df-quickchart-complete');\n",
              "    }\n",
              "    (() => {\n",
              "      let quickchartButtonEl =\n",
              "        document.querySelector('#df-ed13381e-9590-47ff-a7b5-348e692cd286 button');\n",
              "      quickchartButtonEl.style.display =\n",
              "        google.colab.kernel.accessAllowed ? 'block' : 'none';\n",
              "    })();\n",
              "  </script>\n",
              "</div>\n",
              "\n",
              "    </div>\n",
              "  </div>\n"
            ]
          },
          "metadata": {},
          "execution_count": 21
        }
      ],
      "source": [
        "df = pd.read_csv('/content/LinkedIn_jobs.csv')\n",
        "\n",
        "df.head()"
      ]
    },
    {
      "cell_type": "code",
      "source": [
        "df.shape"
      ],
      "metadata": {
        "colab": {
          "base_uri": "https://localhost:8080/"
        },
        "id": "Eh66PGM5W-4S",
        "outputId": "4b90db4c-6d48-4201-b7ac-00333407eb41"
      },
      "execution_count": 22,
      "outputs": [
        {
          "output_type": "execute_result",
          "data": {
            "text/plain": [
              "(3895, 7)"
            ]
          },
          "metadata": {},
          "execution_count": 22
        }
      ]
    },
    {
      "cell_type": "code",
      "source": [
        "df.info()"
      ],
      "metadata": {
        "colab": {
          "base_uri": "https://localhost:8080/"
        },
        "id": "QUYOBl3yT_cz",
        "outputId": "e73c7070-96d0-4724-bec0-90cb97beef53"
      },
      "execution_count": 23,
      "outputs": [
        {
          "output_type": "stream",
          "name": "stdout",
          "text": [
            "<class 'pandas.core.frame.DataFrame'>\n",
            "RangeIndex: 3895 entries, 0 to 3894\n",
            "Data columns (total 7 columns):\n",
            " #   Column           Non-Null Count  Dtype \n",
            "---  ------           --------------  ----- \n",
            " 0   Title            3895 non-null   object\n",
            " 1   Job_URL          3730 non-null   object\n",
            " 2   Company_URL      3729 non-null   object\n",
            " 3   Company          3729 non-null   object\n",
            " 4   Location         3881 non-null   object\n",
            " 5   Actively Hiring  2998 non-null   object\n",
            " 6   Date             3881 non-null   object\n",
            "dtypes: object(7)\n",
            "memory usage: 213.1+ KB\n"
          ]
        }
      ]
    },
    {
      "cell_type": "code",
      "source": [
        "df.describe()"
      ],
      "metadata": {
        "colab": {
          "base_uri": "https://localhost:8080/",
          "height": 261
        },
        "id": "hHPFZ8hJULt3",
        "outputId": "8a7f085d-a10b-496a-f34d-f18e4419571d"
      },
      "execution_count": 24,
      "outputs": [
        {
          "output_type": "execute_result",
          "data": {
            "text/plain": [
              "                                                    Title  \\\n",
              "count                                                3895   \n",
              "unique                                               1731   \n",
              "top     \\n            \\n        Head Cyber Security Op...   \n",
              "freq                                                  227   \n",
              "\n",
              "                                                  Job_URL  \\\n",
              "count                                                3730   \n",
              "unique                                               3730   \n",
              "top     https://sa.linkedin.com/jobs/view/software-eng...   \n",
              "freq                                                    1   \n",
              "\n",
              "                                              Company_URL  \\\n",
              "count                                                3729   \n",
              "unique                                                432   \n",
              "top     https://id.linkedin.com/company/matchatalent?t...   \n",
              "freq                                                  338   \n",
              "\n",
              "                                       Company  \\\n",
              "count                                     3729   \n",
              "unique                                     431   \n",
              "top     \\n            MatchaTalent\\n             \n",
              "freq                                       338   \n",
              "\n",
              "                                                 Location  \\\n",
              "count                                                3881   \n",
              "unique                                                103   \n",
              "top     \\n            Riyadh, Riyadh, Saudi Arabia\\n  ...   \n",
              "freq                                                 1320   \n",
              "\n",
              "                           Actively Hiring      Date  \n",
              "count                                 2998      3881  \n",
              "unique                                   3       134  \n",
              "top     \\n         Actively Hiring\\n        6/7/2023  \n",
              "freq                                  1981       303  "
            ],
            "text/html": [
              "\n",
              "  <div id=\"df-f3a14641-02df-4cc7-9e70-dc7cfdf00662\" class=\"colab-df-container\">\n",
              "    <div>\n",
              "<style scoped>\n",
              "    .dataframe tbody tr th:only-of-type {\n",
              "        vertical-align: middle;\n",
              "    }\n",
              "\n",
              "    .dataframe tbody tr th {\n",
              "        vertical-align: top;\n",
              "    }\n",
              "\n",
              "    .dataframe thead th {\n",
              "        text-align: right;\n",
              "    }\n",
              "</style>\n",
              "<table border=\"1\" class=\"dataframe\">\n",
              "  <thead>\n",
              "    <tr style=\"text-align: right;\">\n",
              "      <th></th>\n",
              "      <th>Title</th>\n",
              "      <th>Job_URL</th>\n",
              "      <th>Company_URL</th>\n",
              "      <th>Company</th>\n",
              "      <th>Location</th>\n",
              "      <th>Actively Hiring</th>\n",
              "      <th>Date</th>\n",
              "    </tr>\n",
              "  </thead>\n",
              "  <tbody>\n",
              "    <tr>\n",
              "      <th>count</th>\n",
              "      <td>3895</td>\n",
              "      <td>3730</td>\n",
              "      <td>3729</td>\n",
              "      <td>3729</td>\n",
              "      <td>3881</td>\n",
              "      <td>2998</td>\n",
              "      <td>3881</td>\n",
              "    </tr>\n",
              "    <tr>\n",
              "      <th>unique</th>\n",
              "      <td>1731</td>\n",
              "      <td>3730</td>\n",
              "      <td>432</td>\n",
              "      <td>431</td>\n",
              "      <td>103</td>\n",
              "      <td>3</td>\n",
              "      <td>134</td>\n",
              "    </tr>\n",
              "    <tr>\n",
              "      <th>top</th>\n",
              "      <td>\\n            \\n        Head Cyber Security Op...</td>\n",
              "      <td>https://sa.linkedin.com/jobs/view/software-eng...</td>\n",
              "      <td>https://id.linkedin.com/company/matchatalent?t...</td>\n",
              "      <td>\\n            MatchaTalent\\n</td>\n",
              "      <td>\\n            Riyadh, Riyadh, Saudi Arabia\\n  ...</td>\n",
              "      <td>\\n         Actively Hiring\\n</td>\n",
              "      <td>6/7/2023</td>\n",
              "    </tr>\n",
              "    <tr>\n",
              "      <th>freq</th>\n",
              "      <td>227</td>\n",
              "      <td>1</td>\n",
              "      <td>338</td>\n",
              "      <td>338</td>\n",
              "      <td>1320</td>\n",
              "      <td>1981</td>\n",
              "      <td>303</td>\n",
              "    </tr>\n",
              "  </tbody>\n",
              "</table>\n",
              "</div>\n",
              "    <div class=\"colab-df-buttons\">\n",
              "\n",
              "  <div class=\"colab-df-container\">\n",
              "    <button class=\"colab-df-convert\" onclick=\"convertToInteractive('df-f3a14641-02df-4cc7-9e70-dc7cfdf00662')\"\n",
              "            title=\"Convert this dataframe to an interactive table.\"\n",
              "            style=\"display:none;\">\n",
              "\n",
              "  <svg xmlns=\"http://www.w3.org/2000/svg\" height=\"24px\" viewBox=\"0 -960 960 960\">\n",
              "    <path d=\"M120-120v-720h720v720H120Zm60-500h600v-160H180v160Zm220 220h160v-160H400v160Zm0 220h160v-160H400v160ZM180-400h160v-160H180v160Zm440 0h160v-160H620v160ZM180-180h160v-160H180v160Zm440 0h160v-160H620v160Z\"/>\n",
              "  </svg>\n",
              "    </button>\n",
              "\n",
              "  <style>\n",
              "    .colab-df-container {\n",
              "      display:flex;\n",
              "      gap: 12px;\n",
              "    }\n",
              "\n",
              "    .colab-df-convert {\n",
              "      background-color: #E8F0FE;\n",
              "      border: none;\n",
              "      border-radius: 50%;\n",
              "      cursor: pointer;\n",
              "      display: none;\n",
              "      fill: #1967D2;\n",
              "      height: 32px;\n",
              "      padding: 0 0 0 0;\n",
              "      width: 32px;\n",
              "    }\n",
              "\n",
              "    .colab-df-convert:hover {\n",
              "      background-color: #E2EBFA;\n",
              "      box-shadow: 0px 1px 2px rgba(60, 64, 67, 0.3), 0px 1px 3px 1px rgba(60, 64, 67, 0.15);\n",
              "      fill: #174EA6;\n",
              "    }\n",
              "\n",
              "    .colab-df-buttons div {\n",
              "      margin-bottom: 4px;\n",
              "    }\n",
              "\n",
              "    [theme=dark] .colab-df-convert {\n",
              "      background-color: #3B4455;\n",
              "      fill: #D2E3FC;\n",
              "    }\n",
              "\n",
              "    [theme=dark] .colab-df-convert:hover {\n",
              "      background-color: #434B5C;\n",
              "      box-shadow: 0px 1px 3px 1px rgba(0, 0, 0, 0.15);\n",
              "      filter: drop-shadow(0px 1px 2px rgba(0, 0, 0, 0.3));\n",
              "      fill: #FFFFFF;\n",
              "    }\n",
              "  </style>\n",
              "\n",
              "    <script>\n",
              "      const buttonEl =\n",
              "        document.querySelector('#df-f3a14641-02df-4cc7-9e70-dc7cfdf00662 button.colab-df-convert');\n",
              "      buttonEl.style.display =\n",
              "        google.colab.kernel.accessAllowed ? 'block' : 'none';\n",
              "\n",
              "      async function convertToInteractive(key) {\n",
              "        const element = document.querySelector('#df-f3a14641-02df-4cc7-9e70-dc7cfdf00662');\n",
              "        const dataTable =\n",
              "          await google.colab.kernel.invokeFunction('convertToInteractive',\n",
              "                                                    [key], {});\n",
              "        if (!dataTable) return;\n",
              "\n",
              "        const docLinkHtml = 'Like what you see? Visit the ' +\n",
              "          '<a target=\"_blank\" href=https://colab.research.google.com/notebooks/data_table.ipynb>data table notebook</a>'\n",
              "          + ' to learn more about interactive tables.';\n",
              "        element.innerHTML = '';\n",
              "        dataTable['output_type'] = 'display_data';\n",
              "        await google.colab.output.renderOutput(dataTable, element);\n",
              "        const docLink = document.createElement('div');\n",
              "        docLink.innerHTML = docLinkHtml;\n",
              "        element.appendChild(docLink);\n",
              "      }\n",
              "    </script>\n",
              "  </div>\n",
              "\n",
              "\n",
              "<div id=\"df-8407cb28-25fa-4f4d-bbe9-ad71d0637a57\">\n",
              "  <button class=\"colab-df-quickchart\" onclick=\"quickchart('df-8407cb28-25fa-4f4d-bbe9-ad71d0637a57')\"\n",
              "            title=\"Suggest charts\"\n",
              "            style=\"display:none;\">\n",
              "\n",
              "<svg xmlns=\"http://www.w3.org/2000/svg\" height=\"24px\"viewBox=\"0 0 24 24\"\n",
              "     width=\"24px\">\n",
              "    <g>\n",
              "        <path d=\"M19 3H5c-1.1 0-2 .9-2 2v14c0 1.1.9 2 2 2h14c1.1 0 2-.9 2-2V5c0-1.1-.9-2-2-2zM9 17H7v-7h2v7zm4 0h-2V7h2v10zm4 0h-2v-4h2v4z\"/>\n",
              "    </g>\n",
              "</svg>\n",
              "  </button>\n",
              "\n",
              "<style>\n",
              "  .colab-df-quickchart {\n",
              "      --bg-color: #E8F0FE;\n",
              "      --fill-color: #1967D2;\n",
              "      --hover-bg-color: #E2EBFA;\n",
              "      --hover-fill-color: #174EA6;\n",
              "      --disabled-fill-color: #AAA;\n",
              "      --disabled-bg-color: #DDD;\n",
              "  }\n",
              "\n",
              "  [theme=dark] .colab-df-quickchart {\n",
              "      --bg-color: #3B4455;\n",
              "      --fill-color: #D2E3FC;\n",
              "      --hover-bg-color: #434B5C;\n",
              "      --hover-fill-color: #FFFFFF;\n",
              "      --disabled-bg-color: #3B4455;\n",
              "      --disabled-fill-color: #666;\n",
              "  }\n",
              "\n",
              "  .colab-df-quickchart {\n",
              "    background-color: var(--bg-color);\n",
              "    border: none;\n",
              "    border-radius: 50%;\n",
              "    cursor: pointer;\n",
              "    display: none;\n",
              "    fill: var(--fill-color);\n",
              "    height: 32px;\n",
              "    padding: 0;\n",
              "    width: 32px;\n",
              "  }\n",
              "\n",
              "  .colab-df-quickchart:hover {\n",
              "    background-color: var(--hover-bg-color);\n",
              "    box-shadow: 0 1px 2px rgba(60, 64, 67, 0.3), 0 1px 3px 1px rgba(60, 64, 67, 0.15);\n",
              "    fill: var(--button-hover-fill-color);\n",
              "  }\n",
              "\n",
              "  .colab-df-quickchart-complete:disabled,\n",
              "  .colab-df-quickchart-complete:disabled:hover {\n",
              "    background-color: var(--disabled-bg-color);\n",
              "    fill: var(--disabled-fill-color);\n",
              "    box-shadow: none;\n",
              "  }\n",
              "\n",
              "  .colab-df-spinner {\n",
              "    border: 2px solid var(--fill-color);\n",
              "    border-color: transparent;\n",
              "    border-bottom-color: var(--fill-color);\n",
              "    animation:\n",
              "      spin 1s steps(1) infinite;\n",
              "  }\n",
              "\n",
              "  @keyframes spin {\n",
              "    0% {\n",
              "      border-color: transparent;\n",
              "      border-bottom-color: var(--fill-color);\n",
              "      border-left-color: var(--fill-color);\n",
              "    }\n",
              "    20% {\n",
              "      border-color: transparent;\n",
              "      border-left-color: var(--fill-color);\n",
              "      border-top-color: var(--fill-color);\n",
              "    }\n",
              "    30% {\n",
              "      border-color: transparent;\n",
              "      border-left-color: var(--fill-color);\n",
              "      border-top-color: var(--fill-color);\n",
              "      border-right-color: var(--fill-color);\n",
              "    }\n",
              "    40% {\n",
              "      border-color: transparent;\n",
              "      border-right-color: var(--fill-color);\n",
              "      border-top-color: var(--fill-color);\n",
              "    }\n",
              "    60% {\n",
              "      border-color: transparent;\n",
              "      border-right-color: var(--fill-color);\n",
              "    }\n",
              "    80% {\n",
              "      border-color: transparent;\n",
              "      border-right-color: var(--fill-color);\n",
              "      border-bottom-color: var(--fill-color);\n",
              "    }\n",
              "    90% {\n",
              "      border-color: transparent;\n",
              "      border-bottom-color: var(--fill-color);\n",
              "    }\n",
              "  }\n",
              "</style>\n",
              "\n",
              "  <script>\n",
              "    async function quickchart(key) {\n",
              "      const quickchartButtonEl =\n",
              "        document.querySelector('#' + key + ' button');\n",
              "      quickchartButtonEl.disabled = true;  // To prevent multiple clicks.\n",
              "      quickchartButtonEl.classList.add('colab-df-spinner');\n",
              "      try {\n",
              "        const charts = await google.colab.kernel.invokeFunction(\n",
              "            'suggestCharts', [key], {});\n",
              "      } catch (error) {\n",
              "        console.error('Error during call to suggestCharts:', error);\n",
              "      }\n",
              "      quickchartButtonEl.classList.remove('colab-df-spinner');\n",
              "      quickchartButtonEl.classList.add('colab-df-quickchart-complete');\n",
              "    }\n",
              "    (() => {\n",
              "      let quickchartButtonEl =\n",
              "        document.querySelector('#df-8407cb28-25fa-4f4d-bbe9-ad71d0637a57 button');\n",
              "      quickchartButtonEl.style.display =\n",
              "        google.colab.kernel.accessAllowed ? 'block' : 'none';\n",
              "    })();\n",
              "  </script>\n",
              "</div>\n",
              "\n",
              "    </div>\n",
              "  </div>\n"
            ]
          },
          "metadata": {},
          "execution_count": 24
        }
      ]
    },
    {
      "cell_type": "code",
      "source": [
        "df.duplicated().sum()"
      ],
      "metadata": {
        "colab": {
          "base_uri": "https://localhost:8080/"
        },
        "id": "SvnlEBx5UNsO",
        "outputId": "b925f081-a114-4240-dc9e-9645219239a0"
      },
      "execution_count": 25,
      "outputs": [
        {
          "output_type": "execute_result",
          "data": {
            "text/plain": [
              "40"
            ]
          },
          "metadata": {},
          "execution_count": 25
        }
      ]
    },
    {
      "cell_type": "code",
      "source": [
        "df.isnull().sum()"
      ],
      "metadata": {
        "colab": {
          "base_uri": "https://localhost:8080/"
        },
        "id": "LGjYXeDgUSkI",
        "outputId": "42010d13-3ac3-49af-d9e4-a14f7bae71c4"
      },
      "execution_count": 26,
      "outputs": [
        {
          "output_type": "execute_result",
          "data": {
            "text/plain": [
              "Title                0\n",
              "Job_URL            165\n",
              "Company_URL        166\n",
              "Company            166\n",
              "Location            14\n",
              "Actively Hiring    897\n",
              "Date                14\n",
              "dtype: int64"
            ]
          },
          "metadata": {},
          "execution_count": 26
        }
      ]
    },
    {
      "cell_type": "code",
      "source": [
        "df = df.dropna()\n",
        "df.count()"
      ],
      "metadata": {
        "colab": {
          "base_uri": "https://localhost:8080/"
        },
        "id": "HCH0NJHVWbBO",
        "outputId": "f0269f24-b707-437f-ce88-15ac1fbd52c4"
      },
      "execution_count": 27,
      "outputs": [
        {
          "output_type": "execute_result",
          "data": {
            "text/plain": [
              "Title              2920\n",
              "Job_URL            2920\n",
              "Company_URL        2920\n",
              "Company            2920\n",
              "Location           2920\n",
              "Actively Hiring    2920\n",
              "Date               2920\n",
              "dtype: int64"
            ]
          },
          "metadata": {},
          "execution_count": 27
        }
      ]
    },
    {
      "cell_type": "code",
      "source": [
        "print(df.isnull().sum())"
      ],
      "metadata": {
        "colab": {
          "base_uri": "https://localhost:8080/"
        },
        "id": "VejLf9Z2Whul",
        "outputId": "475cb677-4901-4093-99a1-3950efde5e68"
      },
      "execution_count": 28,
      "outputs": [
        {
          "output_type": "stream",
          "name": "stdout",
          "text": [
            "Title              0\n",
            "Job_URL            0\n",
            "Company_URL        0\n",
            "Company            0\n",
            "Location           0\n",
            "Actively Hiring    0\n",
            "Date               0\n",
            "dtype: int64\n"
          ]
        }
      ]
    },
    {
      "cell_type": "code",
      "source": [
        "df.dtypes"
      ],
      "metadata": {
        "colab": {
          "base_uri": "https://localhost:8080/"
        },
        "id": "Jbqd9h36UZTF",
        "outputId": "ffca33d3-22ad-4ad1-f7ca-797771d3dea4"
      },
      "execution_count": 29,
      "outputs": [
        {
          "output_type": "execute_result",
          "data": {
            "text/plain": [
              "Title              object\n",
              "Job_URL            object\n",
              "Company_URL        object\n",
              "Company            object\n",
              "Location           object\n",
              "Actively Hiring    object\n",
              "Date               object\n",
              "dtype: object"
            ]
          },
          "metadata": {},
          "execution_count": 29
        }
      ]
    },
    {
      "cell_type": "code",
      "source": [
        "df.columns"
      ],
      "metadata": {
        "colab": {
          "base_uri": "https://localhost:8080/"
        },
        "id": "yBf6FU7kUoOR",
        "outputId": "7a29f3c7-fbde-4649-e696-5d4d5029b57a"
      },
      "execution_count": 30,
      "outputs": [
        {
          "output_type": "execute_result",
          "data": {
            "text/plain": [
              "Index(['Title', 'Job_URL', 'Company_URL', 'Company', 'Location',\n",
              "       'Actively Hiring', 'Date'],\n",
              "      dtype='object')"
            ]
          },
          "metadata": {},
          "execution_count": 30
        }
      ]
    },
    {
      "cell_type": "code",
      "source": [
        "df.count()"
      ],
      "metadata": {
        "colab": {
          "base_uri": "https://localhost:8080/"
        },
        "id": "lF7QvLqRVST_",
        "outputId": "224afdec-ab74-443c-f945-3b01e2d178cb"
      },
      "execution_count": 31,
      "outputs": [
        {
          "output_type": "execute_result",
          "data": {
            "text/plain": [
              "Title              2920\n",
              "Job_URL            2920\n",
              "Company_URL        2920\n",
              "Company            2920\n",
              "Location           2920\n",
              "Actively Hiring    2920\n",
              "Date               2920\n",
              "dtype: int64"
            ]
          },
          "metadata": {},
          "execution_count": 31
        }
      ]
    },
    {
      "cell_type": "code",
      "source": [
        "df['Title'].unique()"
      ],
      "metadata": {
        "colab": {
          "base_uri": "https://localhost:8080/"
        },
        "id": "viYzjoKmWsnH",
        "outputId": "3571d832-819e-4399-b216-c79568dbc552"
      },
      "execution_count": 32,
      "outputs": [
        {
          "output_type": "execute_result",
          "data": {
            "text/plain": [
              "array(['\\n            \\n        Application Developer\\n      \\n          ',\n",
              "       '\\n            \\n        Software Lead Developer - Java \\n      \\n          ',\n",
              "       '\\n            \\n        Senior Web Developer\\n      \\n          ',\n",
              "       ...,\n",
              "       '\\n            \\n        Process Engineers - Steam Cracker Specialist\\n      \\n          ',\n",
              "       '\\n            \\n        TPE III / Process Engineer\\n      \\n          ',\n",
              "       '\\n            \\n        TPE IV / Senior Process Engineer\\n      \\n          '],\n",
              "      dtype=object)"
            ]
          },
          "metadata": {},
          "execution_count": 32
        }
      ]
    },
    {
      "cell_type": "code",
      "source": [
        "print(df['Date'].unique())"
      ],
      "metadata": {
        "colab": {
          "base_uri": "https://localhost:8080/"
        },
        "id": "HJtoQRClaZY-",
        "outputId": "220cfda2-1882-496b-de25-d9b77a7c41f5"
      },
      "execution_count": 33,
      "outputs": [
        {
          "output_type": "stream",
          "name": "stdout",
          "text": [
            "['6/13/2023' '5/30/2023' '6/8/2023' '6/11/2023' '5/24/2023' '6/4/2023'\n",
            " '6/7/2023' '6/6/2023' '5/29/2023' '5/2/2023' '6/5/2023' '6/14/2023'\n",
            " '5/16/2023' '5/22/2023' '6/15/2023' '6/2/2023' '6/12/2023' '5/23/2023'\n",
            " '5/17/2023' '5/10/2023' '5/26/2023' '5/18/2023' '4/16/2023' '6/3/2023'\n",
            " '5/11/2023' '4/27/2023' '5/21/2023' '5/15/2023' '4/6/2023' '5/4/2023'\n",
            " '5/5/2023' '6/1/2023' '5/31/2023' '6/9/2023' '4/3/2023' '4/26/2023'\n",
            " '4/19/2023' '5/27/2023' '3/28/2023' '4/24/2023' '5/8/2023' '5/3/2023'\n",
            " '5/25/2023' '5/9/2023' '4/18/2023' '3/30/2023' '5/12/2023' '4/22/2023'\n",
            " '4/8/2023' '4/11/2023' '5/28/2023' '5/14/2023' '5/6/2023' '4/28/2023'\n",
            " '4/1/2023' '3/16/2023' '5/13/2023' '3/17/2023' '5/1/2023' '3/29/2023'\n",
            " '5/20/2023' '4/12/2023' '4/20/2023' '6/10/2023' '4/17/2023' '3/26/2023'\n",
            " '4/5/2023' '12/13/2022' '2/24/2023' '4/21/2023' '5/7/2023' '5/19/2023'\n",
            " '4/7/2023' '4/25/2023' '2/22/2023' '4/2/2023' '2/3/2023' '3/7/2023'\n",
            " '3/27/2023' '3/20/2023' '4/4/2023' '3/24/2023' '3/31/2023'\n",
            " '\\n            \\n\\n    \\n    \\n    \\n    \\n    \\n    \\n    \\n    \\n    \\n    \\n    \\n    \\n    \\n    \\n    \\n    \\n\\n    \\n    \\n    \\n    \\n    \\n    \\n    \\n    \\n    \\n    \\n    \\n    \\n    \\n    \\n\\n      1 week ago\\n  \\n          '\n",
            " '\\n            \\n\\n    \\n    \\n    \\n    \\n    \\n    \\n    \\n    \\n    \\n    \\n    \\n    \\n    \\n    \\n    \\n    \\n\\n    \\n    \\n    \\n    \\n    \\n    \\n    \\n    \\n    \\n    \\n    \\n    \\n    \\n    \\n\\n      4 days ago\\n  \\n          '\n",
            " '\\n            \\n\\n    \\n    \\n    \\n    \\n    \\n    \\n    \\n    \\n    \\n    \\n    \\n    \\n    \\n    \\n    \\n    \\n\\n    \\n    \\n    \\n    \\n    \\n    \\n    \\n    \\n    \\n    \\n    \\n    \\n    \\n    \\n\\n      2 weeks ago\\n  \\n          '\n",
            " '\\n            \\n\\n    \\n    \\n    \\n    \\n    \\n    \\n    \\n    \\n    \\n    \\n    \\n    \\n    \\n    \\n    \\n    \\n\\n    \\n    \\n    \\n    \\n    \\n    \\n    \\n    \\n    \\n    \\n    \\n    \\n    \\n    \\n\\n      2 months ago\\n  \\n          '\n",
            " '\\n            \\n\\n    \\n    \\n    \\n    \\n    \\n    \\n    \\n    \\n    \\n    \\n    \\n    \\n    \\n    \\n    \\n    \\n\\n    \\n    \\n    \\n    \\n    \\n    \\n    \\n    \\n    \\n    \\n    \\n    \\n    \\n    \\n\\n      2 days ago\\n  \\n          '\n",
            " '\\n            \\n\\n    \\n    \\n    \\n    \\n    \\n    \\n    \\n    \\n    \\n    \\n    \\n    \\n    \\n    \\n    \\n    \\n\\n    \\n    \\n    \\n    \\n    \\n    \\n    \\n    \\n    \\n    \\n    \\n    \\n    \\n    \\n\\n      4 weeks ago\\n  \\n          '\n",
            " '\\n            \\n\\n    \\n    \\n    \\n    \\n    \\n    \\n    \\n    \\n    \\n    \\n    \\n    \\n    \\n    \\n    \\n    \\n\\n    \\n    \\n    \\n    \\n    \\n    \\n    \\n    \\n    \\n    \\n    \\n    \\n    \\n    \\n\\n      1 month ago\\n  \\n          '\n",
            " '\\n            \\n\\n    \\n    \\n    \\n    \\n    \\n    \\n    \\n    \\n    \\n    \\n    \\n    \\n    \\n    \\n    \\n    \\n\\n    \\n    \\n    \\n    \\n    \\n    \\n    \\n    \\n    \\n    \\n    \\n    \\n    \\n    \\n\\n      3 weeks ago\\n  \\n          '\n",
            " '\\n            \\n\\n    \\n    \\n    \\n    \\n    \\n    \\n    \\n    \\n    \\n    \\n    \\n    \\n    \\n    \\n    \\n    \\n\\n    \\n    \\n    \\n    \\n    \\n    \\n    \\n    \\n    \\n    \\n    \\n    \\n    \\n    \\n\\n      3 days ago\\n  \\n          '\n",
            " '\\n            \\n\\n    \\n    \\n    \\n    \\n    \\n    \\n    \\n    \\n    \\n    \\n    \\n    \\n    \\n    \\n    \\n    \\n\\n    \\n    \\n    \\n    \\n    \\n    \\n    \\n    \\n    \\n    \\n    \\n    \\n    \\n    \\n\\n      3 months ago\\n  \\n          '\n",
            " '\\n            \\n\\n    \\n    \\n    \\n    \\n    \\n    \\n    \\n    \\n    \\n    \\n    \\n    \\n    \\n    \\n    \\n    \\n\\n    \\n    \\n    \\n    \\n    \\n    \\n    \\n    \\n    \\n    \\n    \\n    \\n    \\n    \\n\\n      1 day ago\\n  \\n          '\n",
            " '\\n            \\n\\n    \\n    \\n    \\n    \\n    \\n    \\n    \\n    \\n    \\n    \\n    \\n    \\n    \\n    \\n    \\n    \\n\\n    \\n    \\n    \\n    \\n    \\n    \\n    \\n    \\n    \\n    \\n    \\n    \\n    \\n    \\n\\n      22 hours ago\\n  \\n          '\n",
            " '\\n            \\n\\n    \\n    \\n    \\n    \\n    \\n    \\n    \\n    \\n    \\n    \\n    \\n    \\n    \\n    \\n    \\n    \\n\\n    \\n    \\n    \\n    \\n    \\n    \\n    \\n    \\n    \\n    \\n    \\n    \\n    \\n    \\n\\n      5 days ago\\n  \\n          '\n",
            " '\\n            \\n\\n    \\n    \\n    \\n    \\n    \\n    \\n    \\n    \\n    \\n    \\n    \\n    \\n    \\n    \\n    \\n    \\n\\n    \\n    \\n    \\n    \\n    \\n    \\n    \\n    \\n    \\n    \\n    \\n    \\n    \\n    \\n\\n      5 hours ago\\n  \\n          '\n",
            " '\\n            \\n\\n    \\n    \\n    \\n    \\n    \\n    \\n    \\n    \\n    \\n    \\n    \\n    \\n    \\n    \\n    \\n    \\n\\n    \\n    \\n    \\n    \\n    \\n    \\n    \\n    \\n    \\n    \\n    \\n    \\n    \\n    \\n\\n      2 hours ago\\n  \\n          '\n",
            " '\\n            \\n\\n    \\n    \\n    \\n    \\n    \\n    \\n    \\n    \\n    \\n    \\n    \\n    \\n    \\n    \\n    \\n    \\n\\n    \\n    \\n    \\n    \\n    \\n    \\n    \\n    \\n    \\n    \\n    \\n    \\n    \\n    \\n\\n      6 hours ago\\n  \\n          '\n",
            " '\\n            \\n\\n    \\n    \\n    \\n    \\n    \\n    \\n    \\n    \\n    \\n    \\n    \\n    \\n    \\n    \\n    \\n    \\n\\n    \\n    \\n    \\n    \\n    \\n    \\n    \\n    \\n    \\n    \\n    \\n    \\n    \\n    \\n\\n      11 hours ago\\n  \\n          '\n",
            " '\\n            \\n\\n    \\n    \\n    \\n    \\n    \\n    \\n    \\n    \\n    \\n    \\n    \\n    \\n    \\n    \\n    \\n    \\n\\n    \\n    \\n    \\n    \\n    \\n    \\n    \\n    \\n    \\n    \\n    \\n    \\n    \\n    \\n\\n      10 hours ago\\n  \\n          '\n",
            " '\\n            \\n\\n    \\n    \\n    \\n    \\n    \\n    \\n    \\n    \\n    \\n    \\n    \\n    \\n    \\n    \\n    \\n    \\n\\n    \\n    \\n    \\n    \\n    \\n    \\n    \\n    \\n    \\n    \\n    \\n    \\n    \\n    \\n\\n      4 hours ago\\n  \\n          '\n",
            " '\\n            \\n\\n    \\n    \\n    \\n    \\n    \\n    \\n    \\n    \\n    \\n    \\n    \\n    \\n    \\n    \\n    \\n    \\n\\n    \\n    \\n    \\n    \\n    \\n    \\n    \\n    \\n    \\n    \\n    \\n    \\n    \\n    \\n\\n      12 hours ago\\n  \\n          '\n",
            " '\\n            \\n\\n    \\n    \\n    \\n    \\n    \\n    \\n    \\n    \\n    \\n    \\n    \\n    \\n    \\n    \\n    \\n    \\n\\n    \\n    \\n    \\n    \\n    \\n    \\n    \\n    \\n    \\n    \\n    \\n    \\n    \\n    \\n\\n      6 days ago\\n  \\n          '\n",
            " 'Date' '4/9/2023' '3/15/2023' '4/14/2023' '3/12/2023' '3/21/2023'\n",
            " '4/23/2023' '3/11/2023' '3/13/2023' '3/14/2023' '3/23/2023' '9/5/2022'\n",
            " '4/10/2023' '3/22/2023' '3/19/2023' '10/23/2022' '3/10/2023' '2/28/2023'\n",
            " '2/20/2023' '4/13/2023' '3/8/2023']\n"
          ]
        }
      ]
    },
    {
      "cell_type": "code",
      "source": [
        "df['Date'] = pd.to_datetime(df['Date'], errors='coerce')"
      ],
      "metadata": {
        "id": "YxSyNqLYa3Y_"
      },
      "execution_count": 34,
      "outputs": []
    },
    {
      "cell_type": "code",
      "source": [
        "df['Title'] = df['Title'].str.replace(r'\\n', '').str.strip()\n",
        "\n",
        "df['Company'] = df['Company'].str.replace(r'\\n', '').str.strip()\n",
        "\n",
        "df['Location'] = df['Location'].str.replace(r'\\n', '').str.strip()\n",
        "df['Location'] = df['Location'].str.replace('Saudi Arabia', '').str.strip()\n",
        "\n",
        "\n",
        "df['Actively Hiring'] = df['Actively Hiring'].str.replace(r'\\n', '').str.strip()\n",
        "df['Date'] = pd.to_datetime(df['Date'])\n",
        "df['Actively Hiring'] = df['Actively Hiring'].replace('Be an early applicant', 'Not actively hiring')  # Replace with more meaningful value\n",
        "\n",
        "df = df[~df['Actively Hiring'].str.contains('resultbenefit_text')]"
      ],
      "metadata": {
        "colab": {
          "base_uri": "https://localhost:8080/"
        },
        "id": "CP4oyTY9X48C",
        "outputId": "907bbe5d-5d41-472d-e2d3-6518b11305da"
      },
      "execution_count": 35,
      "outputs": [
        {
          "output_type": "stream",
          "name": "stderr",
          "text": [
            "<ipython-input-35-6d120ab47820>:1: FutureWarning: The default value of regex will change from True to False in a future version.\n",
            "  df['Title'] = df['Title'].str.replace(r'\\n', '').str.strip()\n",
            "<ipython-input-35-6d120ab47820>:3: FutureWarning: The default value of regex will change from True to False in a future version.\n",
            "  df['Company'] = df['Company'].str.replace(r'\\n', '').str.strip()\n",
            "<ipython-input-35-6d120ab47820>:5: FutureWarning: The default value of regex will change from True to False in a future version.\n",
            "  df['Location'] = df['Location'].str.replace(r'\\n', '').str.strip()\n",
            "<ipython-input-35-6d120ab47820>:9: FutureWarning: The default value of regex will change from True to False in a future version.\n",
            "  df['Actively Hiring'] = df['Actively Hiring'].str.replace(r'\\n', '').str.strip()\n"
          ]
        }
      ]
    },
    {
      "cell_type": "code",
      "source": [
        "label_encoder = LabelEncoder()\n",
        "df['Actively Hiring'] = label_encoder.fit_transform(df['Actively Hiring'])\n",
        "\n",
        "\n",
        "X = df[['Title', 'Company', 'Location', 'Date']]\n",
        "y = df['Actively Hiring']\n",
        "\n",
        "\n",
        "X['DayOfWeek'] = pd.to_datetime(X['Date']).dt.dayofweek\n",
        "\n",
        "\n",
        "X = X.drop(['Date'], axis=1)\n",
        "\n",
        "\n",
        "X = pd.get_dummies(X, columns=['Title', 'Company', 'Location'], drop_first=True)\n",
        "\n",
        "\n",
        "X_train, X_test, y_train, y_test = train_test_split(X, y, test_size=0.2, random_state=42)\n",
        "\n",
        "\n",
        "imputer = SimpleImputer(strategy='mean')\n",
        "X_train_imputed = imputer.fit_transform(X_train)\n",
        "X_test_imputed = imputer.transform(X_test)\n",
        "\n",
        "\n",
        "rf_classifier = RandomForestClassifier(n_estimators=100, random_state=42)\n",
        "\n",
        "\n",
        "rf_classifier.fit(X_train_imputed, y_train)\n",
        "\n",
        "\n",
        "y_pred = rf_classifier.predict(X_test_imputed)\n",
        "\n",
        "\n",
        "accuracy = accuracy_score(y_test, y_pred)\n",
        "print(f'Test Accuracy: {accuracy * 100:.2f}%')"
      ],
      "metadata": {
        "colab": {
          "base_uri": "https://localhost:8080/"
        },
        "id": "FdgfzFPelr0s",
        "outputId": "cf00c3aa-e17e-4030-f157-7d9c773316de"
      },
      "execution_count": 36,
      "outputs": [
        {
          "output_type": "stream",
          "name": "stderr",
          "text": [
            "<ipython-input-36-1ea57ee6ffe4>:9: SettingWithCopyWarning: \n",
            "A value is trying to be set on a copy of a slice from a DataFrame.\n",
            "Try using .loc[row_indexer,col_indexer] = value instead\n",
            "\n",
            "See the caveats in the documentation: https://pandas.pydata.org/pandas-docs/stable/user_guide/indexing.html#returning-a-view-versus-a-copy\n",
            "  X['DayOfWeek'] = pd.to_datetime(X['Date']).dt.dayofweek\n"
          ]
        },
        {
          "output_type": "stream",
          "name": "stdout",
          "text": [
            "Test Accuracy: 89.38%\n"
          ]
        }
      ]
    },
    {
      "cell_type": "code",
      "source": [
        "best_rf_model = RandomForestClassifier(\n",
        "    max_depth=None,\n",
        "    min_samples_leaf=1,\n",
        "    min_samples_split=2,\n",
        "    n_estimators=200,\n",
        "    random_state=42\n",
        ")\n",
        "\n",
        "best_rf_model.fit(X_train_imputed, y_train)\n",
        "\n",
        "y_pred_best = best_rf_model.predict(X_test_imputed)\n",
        "\n",
        "print(\"Classification Report (Best Model):\\n\", classification_report(y_test, y_pred_best))\n",
        "\n",
        "conf_matrix_best = confusion_matrix(y_test, y_pred_best)\n",
        "sns.heatmap(conf_matrix_best, annot=True, fmt='d', cmap='Blues', cbar=False)\n",
        "plt.xlabel('Predicted')\n",
        "plt.ylabel('True')\n",
        "plt.title('Confusion Matrix')\n",
        "plt.show()\n"
      ],
      "metadata": {
        "colab": {
          "base_uri": "https://localhost:8080/",
          "height": 654
        },
        "id": "IH1SdgIXqLng",
        "outputId": "414a0b62-8c26-4e06-c4c5-577ef437df31"
      },
      "execution_count": 37,
      "outputs": [
        {
          "output_type": "stream",
          "name": "stdout",
          "text": [
            "Classification Report (Best Model):\n",
            "               precision    recall  f1-score   support\n",
            "\n",
            "           0       0.90      0.95      0.92       391\n",
            "           1       0.88      0.78      0.83       193\n",
            "\n",
            "    accuracy                           0.89       584\n",
            "   macro avg       0.89      0.86      0.87       584\n",
            "weighted avg       0.89      0.89      0.89       584\n",
            "\n"
          ]
        },
        {
          "output_type": "display_data",
          "data": {
            "text/plain": [
              "<Figure size 640x480 with 1 Axes>"
            ],
            "image/png": "[encoded data removed]"
          },
          "metadata": {}
        }
      ]
    },
    {
      "cell_type": "code",
      "source": [
        "train_sizes, train_scores, test_scores = learning_curve(\n",
        "    best_rf_model, X_train_imputed, y_train, cv=5, scoring='accuracy', train_sizes=np.linspace(0.1, 1.0, 10)\n",
        ")\n",
        "\n",
        "train_scores_mean = np.mean(train_scores, axis=1)\n",
        "train_scores_std = np.std(train_scores, axis=1)\n",
        "test_scores_mean = np.mean(test_scores, axis=1)\n",
        "test_scores_std = np.std(test_scores, axis=1)\n",
        "\n",
        "plt.figure(figsize=(10, 6))\n",
        "plt.fill_between(train_sizes, train_scores_mean - train_scores_std, train_scores_mean + train_scores_std, alpha=0.1, color=\"r\")\n",
        "plt.fill_between(train_sizes, test_scores_mean - test_scores_std, test_scores_mean + test_scores_std, alpha=0.1, color=\"g\")\n",
        "plt.plot(train_sizes, train_scores_mean, 'o-', color=\"r\", label=\"Training score\")\n",
        "plt.plot(train_sizes, test_scores_mean, 'o-', color=\"g\", label=\"Cross-validation score\")\n",
        "plt.xlabel(\"Training examples\")\n",
        "plt.ylabel(\"Accuracy Score\")\n",
        "plt.legend(loc=\"best\")\n",
        "plt.title(\"Learning Curves\")\n",
        "plt.show()"
      ],
      "metadata": {
        "colab": {
          "base_uri": "https://localhost:8080/",
          "height": 628
        },
        "id": "Tre7j_WnqMMx",
        "outputId": "cfd1279a-caa3-40e0-88d8-2cc3d1561cbd"
      },
      "execution_count": 38,
      "outputs": [
        {
          "output_type": "stream",
          "name": "stderr",
          "text": [
            "/usr/local/lib/python3.10/dist-packages/sklearn/model_selection/_split.py:700: UserWarning: The least populated class in y has only 1 members, which is less than n_splits=5.\n",
            "  warnings.warn(\n"
          ]
        },
        {
          "output_type": "display_data",
          "data": {
            "text/plain": [
              "<Figure size 1000x600 with 1 Axes>"
            ],
            "image/png": "[encoded data removed]"
          },
          "metadata": {}
        }
      ]
    },
    {
      "cell_type": "code",
      "source": [
        "df.to_excel('jobfinal.xlsx', index=False)"
      ],
      "metadata": {
        "id": "bbDGArWvwm3B"
      },
      "execution_count": 39,
      "outputs": []
    }
  ]
}